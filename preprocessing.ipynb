{
 "cells": [
  {
   "cell_type": "markdown",
   "id": "8624156a",
   "metadata": {},
   "source": [
    "# Biblioteki"
   ]
  },
  {
   "cell_type": "code",
   "execution_count": null,
   "id": "45be8758",
   "metadata": {},
   "outputs": [],
   "source": [
    "import numpy as np\n",
    "import pandas as pd\n",
    "import matplotlib.pyplot as plt\n",
    "import seaborn as sns\n",
    "from collections import Counter\n",
    "from sklearn.preprocessing import StandardScaler\n",
    "from sklearn.decomposition import PCA"
   ]
  },
  {
   "cell_type": "markdown",
   "id": "16c0c128",
   "metadata": {},
   "source": [
    "# Get data"
   ]
  },
  {
   "cell_type": "code",
   "execution_count": null,
   "id": "f0491085",
   "metadata": {
    "lines_to_next_cell": 2
   },
   "outputs": [],
   "source": [
    "csv_file = \"song_data.csv\"\n",
    "df = pd.read_csv(csv_file)"
   ]
  },
  {
   "cell_type": "markdown",
   "id": "84df90e3",
   "metadata": {},
   "source": [
    "# Opis danych\n",
    "\n",
    "**song_name** : *object* - nazwa piosenki\n",
    "\n",
    "**song_popularity** : *integer* - Popularność utworu. Wartość będzie mieścić się w przedziale od 0 do 100, przy czym 100 oznacza największą popularność. Popularność jest obliczana za pomocą algorytmu i opiera się głównie na całkowitej liczbie odtworzeń utworu i na tym, jak niedawno te odtworzenia miały miejsce. Ogólnie rzecz biorąc, utwory, które są obecnie często odtwarzane, będą miały wyższą popularność niż utwory, które były często odtwarzane w przeszłości. Zduplikowane utwory (np. ten sam utwór z singla i albumu) są oceniane niezależnie. Popularność artysty i albumu jest wyznaczana matematycznie na podstawie popularności utworu.\n",
    "\n",
    "**song_duration_ms** : *integer* - Czas trwania piosenki w milisekundach.\n",
    "\n",
    "**acousticness** : *float* - Mówi o tym jak dużą mamy pewność, że piosenka jest akustyczna. 1.0 oznacza dużą pewność.\n",
    "\n",
    "**danceability** : *float* - Ocena jak bardzo taneczna jest piosenka, na podstawie kombinacji aspektów muzycznych, takich jak tempo, rytm, beat. 0.0 to najmniejsza taneczność a 1.0 to największa.\n",
    "\n",
    "**energy** : *float* - Mierzy energiczność piosenki w oparciu o dynamikę, głośność, barwę dżwięku, częstotliwość i ogólną entropię.\n",
    "\n",
    "**instrumentalness** : *float* - Przewidywanie czy muzyka nie zawiera wokalu. Im bliżej do 1.0 tym większe prawdopodobieństwo, że piosenka nie zawiera wokalu. Wartości powyżej 0.5 mają reprezentować utwory intrumentalne.\n",
    "\n",
    "**key** : *integer* - Tonacja utworu. 0 to C, 1 to C#/D♭, itd. Jeżeli tonacja jest nie podana przyjmuje wartość -1.\n",
    "\n",
    "**liveness** : *float* - Wykrywa obecność publiczności w nagraniu. Wyższe wartości żywotności reprezentują zwiększone prawdopodobieństwo, że utwór został wykonany na żywo. Wartość powyżej 0,8 stanowi silne prawdopodobieństwo, że utwór jest nagraniem na żywo.\n",
    "\n",
    "**audio_mode** : *binary* - Tryb wskazuje modalność (durową lub molową) utworu, czyli rodzaj skali, z której pochodzi jego treść melodyczna. Durowa jest reprezentowana przez 1, a molowa przez 0.\n",
    "\n",
    "**speechiness** : *float* - Wykrywa obecność mówionych słów w utworze. Im bardziej nagranie przypomina mowę (np. talk-show, audiobook, poezja), tym bliżej wartość atrybutu jest do 1,0. Wartości powyżej 0,66 opisują utwory, które prawdopodobnie składają się całkowicie z mówionych słów. Wartości między 0,33 a 0,66 opisują utwory, które mogą zawierać zarówno muzykę, jak i mowę, zarówno w sekcjach, jak i warstwach, w tym przypadku muzyki rap. Wartości poniżej 0,33 najprawdopodobniej reprezentują muzykę i inne utwory niespokojne.\n",
    "\n",
    "**tempo** : *float* - Ogólnie szacowane tempo utworu wyrażone w uderzeniach na minutę (BPM). Przykład: 118.211 BPM\n",
    "\n",
    "**time_signature** : *integer* - Szacowane metrum utworu. Metrum określa, ile uderzeń zawiera każda takt (czyli każda \"miara\"). Metrum jest wyrażane jako liczba uderzeń w takt, na przykład \"3/4\" lub \"7/4\".\n",
    "\n",
    "**audio_valence** : *float* - Miara od 0.0 do 1.0 opisująca muzyczną pozytywność przekazywaną przez utwór. Utwory z wysoka wartością brzmią bardziej pozytywnie (np. szczęśliwie, radośnie, euforycznie), podczas gdy utwory o niskiej mierze brzmią bardziej negatywnie (np. smutnie, przygnębiono, gniewnie).\n",
    "\n",
    "W przypadku zmiennych **key** oraz **tempo**, konieczne będzie użycie techniki One Hot Encoding, w celu zapisu ich jako zmienne binarne."
   ]
  },
  {
   "cell_type": "code",
   "execution_count": null,
   "id": "1a063176",
   "metadata": {},
   "outputs": [],
   "source": [
    "df.info()"
   ]
  },
  {
   "cell_type": "markdown",
   "id": "626d3fc4",
   "metadata": {},
   "source": [
    "# Usuwanie duplikatów"
   ]
  },
  {
   "cell_type": "code",
   "execution_count": null,
   "id": "efdaa896",
   "metadata": {},
   "outputs": [],
   "source": [
    "counter = Counter(df['song_name'])\n",
    "if len(Counter({k: c for k, c in counter.items() if c > 1})) != 0:\n",
    "  df = df.drop_duplicates(subset='song_name')\n",
    "  df = df.reset_index(drop=True)"
   ]
  },
  {
   "cell_type": "markdown",
   "id": "346b3f02",
   "metadata": {},
   "source": [
    "# Statystyki"
   ]
  },
  {
   "cell_type": "code",
   "execution_count": null,
   "id": "211a196a",
   "metadata": {},
   "outputs": [],
   "source": [
    "df.describe().transpose()"
   ]
  },
  {
   "cell_type": "code",
   "execution_count": null,
   "id": "a7a18791",
   "metadata": {},
   "outputs": [],
   "source": [
    "cat = df[[\"key\",\"audio_mode\", \"time_signature\"]].copy()\n",
    "num = df.drop([\"song_name\",\"key\",\"audio_mode\", \"time_signature\"], axis = 1)\n",
    "Y = df[\"song_popularity\"]"
   ]
  },
  {
   "cell_type": "markdown",
   "id": "3b2c2057",
   "metadata": {},
   "source": [
    "# Wizualizacja"
   ]
  },
  {
   "cell_type": "code",
   "execution_count": null,
   "id": "5486c8e9",
   "metadata": {},
   "outputs": [],
   "source": [
    "#Numerical variables\n",
    "fig = plt.figure(figsize = (15,15))\n",
    "ax = fig.gca()\n",
    "num.hist(ax = ax)\n",
    "plt.show()"
   ]
  },
  {
   "cell_type": "code",
   "execution_count": null,
   "id": "e28af209",
   "metadata": {},
   "outputs": [],
   "source": [
    "# Categorical values\n",
    "fig, (ax1, ax2, ax3) = plt.subplots(1, 3, figsize = (15,5))\n",
    "cat[\"key\"].value_counts().plot(kind='bar', ax = ax1)\n",
    "cat[\"time_signature\"].value_counts().plot(kind='bar', ax = ax2)\n",
    "cat[\"audio_mode\"].value_counts().plot(kind='bar', ax = ax3)\n",
    "plt.show()"
   ]
  },
  {
   "cell_type": "markdown",
   "id": "2f424288",
   "metadata": {},
   "source": [
    "# Zmienne kategoryczne"
   ]
  },
  {
   "cell_type": "code",
   "execution_count": null,
   "id": "762fe216",
   "metadata": {},
   "outputs": [],
   "source": [
    "Counter(df['time_signature'])"
   ]
  },
  {
   "cell_type": "code",
   "execution_count": null,
   "id": "60751e0a",
   "metadata": {},
   "outputs": [],
   "source": [
    "# usuwamy wiersze gdzie wartość zmiennej time_signature wynosi 0 i 1\n",
    "df.drop(df[ df['time_signature'] == 1 ].index, inplace = True)\n",
    "df.drop(df[ df['time_signature'] == 0 ].index, inplace = True)\n",
    "Counter(df['time_signature'])"
   ]
  },
  {
   "cell_type": "code",
   "execution_count": null,
   "id": "1fa1da4f",
   "metadata": {},
   "outputs": [],
   "source": [
    "Counter(df['audio_mode'])"
   ]
  },
  {
   "cell_type": "code",
   "execution_count": null,
   "id": "72060761",
   "metadata": {},
   "outputs": [],
   "source": [
    "Counter(df['key'])"
   ]
  },
  {
   "cell_type": "markdown",
   "id": "8f2b8244",
   "metadata": {},
   "source": [
    "# Korelacje"
   ]
  },
  {
   "cell_type": "code",
   "execution_count": null,
   "id": "cafc561f",
   "metadata": {},
   "outputs": [],
   "source": [
    "correlation_matrix=num.corr()\n",
    "\n",
    "plt.figure(figsize=(12,10))\n",
    "ax = sns.heatmap(correlation_matrix, annot=True, cmap='RdBu_r')\n",
    "ax.xaxis.tick_top()\n",
    "plt.xticks(rotation=90)\n",
    "plt.show()"
   ]
  },
  {
   "cell_type": "markdown",
   "id": "f220cd68",
   "metadata": {},
   "source": [
    "# Zależności między zmienną objaśnianą a zmiennymi objaśniającymi"
   ]
  },
  {
   "cell_type": "code",
   "execution_count": null,
   "id": "4e9dee4d",
   "metadata": {},
   "outputs": [],
   "source": [
    "#numeric\n",
    "fig, axes = plt.subplots(5, 2, figsize = (15,20))\n",
    "plt.subplots_adjust(hspace=0.5)\n",
    "num.plot.scatter(x = \"song_popularity\",\n",
    "                 y = \"song_duration_ms\",\n",
    "                 ax = axes[0,0])\n",
    "num.plot.scatter(x = \"song_popularity\",\n",
    "                 y = \"acousticness\",\n",
    "                 ax = axes[0,1])\n",
    "num.plot.scatter(x = \"song_popularity\",\n",
    "                 y = \"danceability\",\n",
    "                 ax = axes[1,0])\n",
    "num.plot.scatter(x = \"song_popularity\",\n",
    "                 y = \"energy\",\n",
    "                 ax = axes[1,1])\n",
    "num.plot.scatter(x = \"song_popularity\",\n",
    "                 y = \"instrumentalness\",\n",
    "                 ax = axes[2,0])\n",
    "num.plot.scatter(x = \"song_popularity\",\n",
    "                 y = \"liveness\",\n",
    "                 ax = axes[2,1])\n",
    "num.plot.scatter(x = \"song_popularity\",\n",
    "                 y = \"loudness\",\n",
    "                 ax = axes[3,0])\n",
    "num.plot.scatter(x = \"song_popularity\",\n",
    "                 y = \"speechiness\",\n",
    "                 ax = axes[3,1])\n",
    "num.plot.scatter(x = \"song_popularity\",\n",
    "                 y = \"tempo\",\n",
    "                 ax = axes[4,0])\n",
    "num.plot.scatter(x = \"song_popularity\",\n",
    "                 y = \"audio_valence\",\n",
    "                 ax = axes[4,1])\n",
    "\n",
    "plt.show()\n"
   ]
  },
  {
   "cell_type": "code",
   "execution_count": null,
   "id": "f9d841d4",
   "metadata": {
    "lines_to_next_cell": 2
   },
   "outputs": [],
   "source": [
    "#categorical\n",
    "fig, (ax1, ax2, ax3) = plt.subplots(1, 3, figsize = (15,5))\n",
    "sns.boxplot(x=\"key\", y=\"song_popularity\", data=df, palette=\"Set3\", ax = ax1)\n",
    "sns.boxplot(x=\"audio_mode\", y=\"song_popularity\", data=df, palette=\"Set3\", ax = ax2)\n",
    "sns.boxplot(x=\"time_signature\", y=\"song_popularity\", data=df, palette=\"Set3\", ax = ax3)\n",
    "plt.show()"
   ]
  },
  {
   "cell_type": "markdown",
   "id": "bfd480b2",
   "metadata": {},
   "source": [
    "# Normalizacja (numeric)"
   ]
  },
  {
   "cell_type": "code",
   "execution_count": null,
   "id": "4acb3c5a",
   "metadata": {},
   "outputs": [],
   "source": [
    "scaler = StandardScaler()\n",
    "X = num.drop([\"song_popularity\"], axis = 1)\n",
    "X.iloc[:,0:]=scaler.fit_transform(X.iloc[:,0:].to_numpy())"
   ]
  },
  {
   "cell_type": "markdown",
   "id": "f5cfcf9e",
   "metadata": {},
   "source": [
    "# Pary wykresy (numeric)"
   ]
  },
  {
   "cell_type": "code",
   "execution_count": null,
   "id": "6cdc0314",
   "metadata": {},
   "outputs": [],
   "source": [
    "sns.pairplot(X)"
   ]
  },
  {
   "cell_type": "markdown",
   "id": "efad5fa1",
   "metadata": {},
   "source": [
    "# PCA (numeric)"
   ]
  },
  {
   "cell_type": "code",
   "execution_count": null,
   "id": "adb878ce",
   "metadata": {},
   "outputs": [],
   "source": [
    "pca = PCA(n_components=10)\n",
    "principalComponents = pca.fit_transform(X)\n",
    "print('Procent warincji wyjaśniony przez components: {}'.format(pca.explained_variance_ratio_))\n",
    "print('Procent warincji wyjaśniony przez components (suma): {}'.format(pca.explained_variance_ratio_.cumsum()))"
   ]
  },
  {
   "cell_type": "code",
   "execution_count": null,
   "id": "b44c0346",
   "metadata": {},
   "outputs": [],
   "source": []
  }
 ],
 "metadata": {
  "jupytext": {
   "cell_metadata_filter": "-all",
   "notebook_metadata_filter": "-all",
   "text_representation": {
    "extension": ".py",
    "format_name": "light"
   }
  },
  "kernelspec": {
   "display_name": "Python 3 (ipykernel)",
   "language": "python",
   "name": "python3"
  }
 },
 "nbformat": 4,
 "nbformat_minor": 5
}
